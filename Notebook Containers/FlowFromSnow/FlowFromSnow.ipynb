{
 "cells": [
  {
   "cell_type": "markdown",
   "metadata": {
    "colab_type": "text",
    "id": "i2Y2jqQw5sGn"
   },
   "source": [
    "This Python Notebook illustrates simple data analysis using USGS streamflow data that the user uploads, python code that the user uploads, and SNOTEL data that the code downloads from the NRCS. This Notebook is intended to be used as a supplement to the Hydrolearn module \"Embedding data and python code into a module\" HydroLearn EmbedCode101 developed by David Tarboton, 6/28/20 as part of a HydroLearn hackathon."
   ]
  },
  {
   "cell_type": "markdown",
   "metadata": {},
   "source": [
    "The cell below references dependencies that this code uses.  Depending on where you are running this notebook you may need to install these dependencies by uncommenting (removing the # from the pip install lines below)"
   ]
  },
  {
   "cell_type": "code",
   "execution_count": null,
   "metadata": {
    "colab": {},
    "colab_type": "code",
    "id": "7Ourk4AiWw7D"
   },
   "outputs": [],
   "source": [
    "# Dependencies\n",
    "!pip install numpy\n",
    "!pip install matplotlib\n",
    "!pip install pandas\n",
    "import numpy as np\n",
    "import matplotlib.pyplot as plt  # plotting"
   ]
  },
  {
   "cell_type": "markdown",
   "metadata": {},
   "source": [
    "### Data and Code\n",
    "The following files are provided\n",
    "- FlowFromSnow.ipynb.  This notebook file\n",
    "- usgs10109000.txt.  A streamflow data file from https://waterdata.usgs.gov/nwis/. Users who want to use this code with different data should download their own data from NWIS. \n",
    "- GetDataFunctions.py.  A python file that serves to illustrate user supplied code. It is python code for reading the NWIS file just read above, as well as fetching SNOTEL data from a USDA server. If you want to work with your own python code, to do your own analysis, or retrieve different data, this serves as an example.\n"
   ]
  },
  {
   "cell_type": "markdown",
   "metadata": {},
   "source": [
    "The cell below uses the code in GetDataFunctions.py to get the data you need to work with by calling two functions \n",
    "- read_usgs_streamflow_file\n",
    "- read_snotel\n",
    "Results are returned in Pandas data frames.  "
   ]
  },
  {
   "cell_type": "code",
   "execution_count": null,
   "metadata": {
    "colab": {
     "base_uri": "https://localhost:8080/",
     "height": 558
    },
    "colab_type": "code",
    "id": "itqkHAqz6QiP",
    "outputId": "4f31722a-e310-4a1e-adab-2c95beb9e645"
   },
   "outputs": [],
   "source": [
    "# Read the data using functions in GetDataFunctions.py\n",
    "from GetDataFunctions import *\n",
    "flowdata=read_usgs_streamflow_file(\"usgs10109000.txt\")\n",
    "flowdata.plot(x='date',y='flow')\n",
    "\n",
    "snow=read_snotel(823,\"UT\",\"2020-06-20\")  #enddt=\"2020-06-20\"\n",
    "snow.plot(x='date',y='swe')"
   ]
  },
  {
   "cell_type": "markdown",
   "metadata": {},
   "source": [
    "The next cell does some simple analysis. A hypothesis is that the maximum snow water equivalent at a SNOTEL site that occurs on about April 1 of each year is a reasonable predictor of the maximum daily streamflow that may occur around June in a stream driven by snowmelt.\n",
    "\n",
    "For the example data provided, Logan River, near Logan Utah, and Tony Grove Lake SNOTEL site you will see that the Hypothesis is reasonable.\n",
    "\n",
    "The code below scans each complete year of SNOTEL data to determine the maximum snow water equivalent. It scans daily streamflow data to determine the maximum daily streamflow. It then plots max streamflow vs max snow, and draws a best fit straight line, showing the equation that could be fit.\n",
    "\n",
    "There is a lot more that could be done with this example, but it stops here, as the purpose is to keep this short and simple as an illustration of how to work with data embedded into HydroLearn"
   ]
  },
  {
   "cell_type": "code",
   "execution_count": null,
   "metadata": {
    "colab": {
     "base_uri": "https://localhost:8080/",
     "height": 313
    },
    "colab_type": "code",
    "id": "fBZmr9k6XX1H",
    "outputId": "5b4c1122-91fa-418e-f293-445ee4ffb595"
   },
   "outputs": [],
   "source": [
    "# Analysis to develop simple linear model for Maximum daily streamflow as a function of Maximum snow water equivalent\n",
    "ybeg=int(snow.head(1)['date'].dt.year)+1\n",
    "yend=int(snow.tail(1)['date'].dt.year)-1\n",
    "yrs=[]\n",
    "snowmax=[]\n",
    "flowmax=[]\n",
    "for yr in range(ybeg,yend):\n",
    "    yrs.append(yr)\n",
    "    start_date=str(yr)+'-01-01'\n",
    "    end_date=str(yr)+'-12-31'\n",
    "    snowmax.append(max(snow.loc[(snow['date'] >= start_date) & (snow['date'] <= end_date)]['swe']))\n",
    "    flowmax.append(max(flowdata.loc[(flowdata['date'] >= start_date) & (flowdata['date'] <= end_date)]['flow']))\n",
    "snowmax=np.array(snowmax)\n",
    "flowmax=np.array(flowmax)\n",
    "plt.scatter(snowmax,flowmax)\n",
    "plt.xlabel('Max SWE (inches)')\n",
    "plt.ylabel('Max Discharge (cfs)')\n",
    "# Fit a straight line using numpy's polyfit function\n",
    "m,b=np.polyfit(snowmax,flowmax,1)\n",
    "plt.plot(snowmax, m*snowmax+b)\n",
    "print(\"Regression fit:\")\n",
    "print(\"Max daily streamflow = \"+str(round(b,3))+\" + \"+str(round(m,3))+\"*(Max snow water equivalent in inches)  (cfs)\")\n"
   ]
  }
 ],
 "metadata": {
  "colab": {
   "name": "FlowAnalysis.ipynb",
   "provenance": []
  },
  "kernelspec": {
   "display_name": "Python 3-latest-stable",
   "language": "python",
   "name": "python3"
  },
  "language_info": {
   "codemirror_mode": {
    "name": "ipython",
    "version": 3
   },
   "file_extension": ".py",
   "mimetype": "text/x-python",
   "name": "python",
   "nbconvert_exporter": "python",
   "pygments_lexer": "ipython3",
   "version": "3.9.10"
  }
 },
 "nbformat": 4,
 "nbformat_minor": 4
}
